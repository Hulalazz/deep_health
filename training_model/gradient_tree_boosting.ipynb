{
 "cells": [
  {
   "cell_type": "code",
   "execution_count": 6,
   "metadata": {
    "collapsed": false,
    "deletable": true,
    "editable": true
   },
   "outputs": [],
   "source": [
    "import pandas as pd\n",
    "import numpy as np\n",
    "import math\n",
    "from helpers import process_data"
   ]
  },
  {
   "cell_type": "markdown",
   "metadata": {},
   "source": [
    "# Import cleaned up data"
   ]
  },
  {
   "cell_type": "code",
   "execution_count": 7,
   "metadata": {
    "collapsed": false
   },
   "outputs": [
    {
     "name": "stdout",
     "output_type": "stream",
     "text": [
      "<class 'pandas.core.frame.DataFrame'>\n",
      "RangeIndex: 100702 entries, 0 to 100701\n",
      "Data columns (total 45 columns):\n",
      "race                        100702 non-null int64\n",
      "gender                      100702 non-null int64\n",
      "age                         100702 non-null int64\n",
      "admission_type_id           100702 non-null int64\n",
      "discharge_disposition_id    100702 non-null int64\n",
      "admission_source_id         100702 non-null int64\n",
      "time_in_hospital            100702 non-null int64\n",
      "num_lab_procedures          100702 non-null int64\n",
      "num_procedures              100702 non-null int64\n",
      "num_medications             100702 non-null int64\n",
      "number_outpatient           100702 non-null int64\n",
      "number_emergency            100702 non-null int64\n",
      "number_inpatient            100702 non-null int64\n",
      "diag_1                      100702 non-null int64\n",
      "diag_2                      100702 non-null int64\n",
      "diag_3                      100702 non-null int64\n",
      "number_diagnoses            100702 non-null int64\n",
      "max_glu_serum               100702 non-null int64\n",
      "A1Cresult                   100702 non-null int64\n",
      "metformin                   100702 non-null int64\n",
      "repaglinide                 100702 non-null int64\n",
      "nateglinide                 100702 non-null int64\n",
      "chlorpropamide              100702 non-null int64\n",
      "glimepiride                 100702 non-null int64\n",
      "acetohexamide               100702 non-null int64\n",
      "glipizide                   100702 non-null int64\n",
      "glyburide                   100702 non-null int64\n",
      "tolbutamide                 100702 non-null int64\n",
      "pioglitazone                100702 non-null int64\n",
      "rosiglitazone               100702 non-null int64\n",
      "acarbose                    100702 non-null int64\n",
      "miglitol                    100702 non-null int64\n",
      "troglitazone                100702 non-null int64\n",
      "tolazamide                  100702 non-null int64\n",
      "examide                     100702 non-null int64\n",
      "citoglipton                 100702 non-null int64\n",
      "insulin                     100702 non-null int64\n",
      "glyburide_metformin         100702 non-null int64\n",
      "glipizide_metformin         100702 non-null int64\n",
      "glimepiride_pioglitazone    100702 non-null int64\n",
      "metformin_rosiglitazone     100702 non-null int64\n",
      "metformin_pioglitazone      100702 non-null int64\n",
      "change                      100702 non-null int64\n",
      "diabetesMed                 100702 non-null int64\n",
      "readmitted                  100702 non-null int64\n",
      "dtypes: int64(45)\n",
      "memory usage: 34.6 MB\n"
     ]
    }
   ],
   "source": [
    "df = process_data('dataset_output/raw_training_data_cleaned_up.csv')"
   ]
  },
  {
   "cell_type": "markdown",
   "metadata": {
    "deletable": true,
    "editable": true
   },
   "source": [
    "#### All columns are using encoded int's. Great! "
   ]
  },
  {
   "cell_type": "markdown",
   "metadata": {
    "deletable": true,
    "editable": true
   },
   "source": [
    "# Gradient Tree Boosting"
   ]
  },
  {
   "cell_type": "markdown",
   "metadata": {
    "deletable": true,
    "editable": true
   },
   "source": [
    "### 1) Construct training and testing \n",
    "TODO: validation sets"
   ]
  },
  {
   "cell_type": "code",
   "execution_count": 9,
   "metadata": {
    "collapsed": false,
    "deletable": true,
    "editable": true
   },
   "outputs": [],
   "source": [
    "from sklearn.model_selection import train_test_split\n",
    "\n",
    "# Separate input and output features \n",
    "# Original df is not mutated\n",
    "X = df.drop(['discharge_disposition_id','admission_type_id'], axis=1)\n",
    "\n",
    "# columns of the values we want to predict which we use to train our model\n",
    "y_disposition = df['discharge_disposition_id']\n",
    "y_admission = df['admission_type_id']\n",
    "\n",
    "# For disposition statuses\n",
    "X_disposition_train, X_disposition_test, y_disposition_train, y_disposition_test = train_test_split(X, y_disposition, test_size=0.3)\n",
    "\n",
    "# For admission statuses\n",
    "X_admission_train, X_admission_test, y_admission_train, y_admission_test = train_test_split(X, y_admission, test_size=0.3)"
   ]
  },
  {
   "cell_type": "markdown",
   "metadata": {
    "deletable": true,
    "editable": true
   },
   "source": [
    "### 2) Train model"
   ]
  },
  {
   "cell_type": "code",
   "execution_count": 10,
   "metadata": {
    "collapsed": false,
    "deletable": true,
    "editable": true
   },
   "outputs": [
    {
     "data": {
      "text/plain": [
       "GradientBoostingClassifier(criterion='friedman_mse', init=None,\n",
       "              learning_rate=0.1, loss='deviance', max_depth=3,\n",
       "              max_features=None, max_leaf_nodes=None,\n",
       "              min_impurity_split=1e-07, min_samples_leaf=1,\n",
       "              min_samples_split=2, min_weight_fraction_leaf=0.0,\n",
       "              n_estimators=100, presort='auto', random_state=None,\n",
       "              subsample=1.0, verbose=0, warm_start=False)"
      ]
     },
     "execution_count": 10,
     "metadata": {},
     "output_type": "execute_result"
    }
   ],
   "source": [
    "from sklearn.ensemble import GradientBoostingClassifier\n",
    "\n",
    "admission_classifier = GradientBoostingClassifier(n_estimators=100, verbose=1)\n",
    "disposition_classifier = GradientBoostingClassifier(n_estimators=100, verbose=1)\n",
    "\n",
    "admission_classifier.get_params()\n",
    "disposition_classifier.get_params()\n",
    "\n",
    "admission_classifier.fit(X_admission_train, y_admission_train)\n",
    "disposition_classifier.fit(X_disposition_train, y_disposition_train)"
   ]
  },
  {
   "cell_type": "markdown",
   "metadata": {
    "deletable": true,
    "editable": true
   },
   "source": [
    "### 3) Predict!"
   ]
  },
  {
   "cell_type": "code",
   "execution_count": 11,
   "metadata": {
    "collapsed": false,
    "deletable": true,
    "editable": true
   },
   "outputs": [],
   "source": [
    "# predict classes for data in test_set\n",
    "predict_admission = admission_classifier.predict(X_admission_test) \n",
    "predict_disposition = disposition_classifier.predict(X_disposition_test)"
   ]
  },
  {
   "cell_type": "markdown",
   "metadata": {
    "deletable": true,
    "editable": true
   },
   "source": [
    "### 4) Evaluate our models"
   ]
  },
  {
   "cell_type": "code",
   "execution_count": 15,
   "metadata": {
    "collapsed": false,
    "deletable": true,
    "editable": true
   },
   "outputs": [
    {
     "name": "stdout",
     "output_type": "stream",
     "text": [
      "             precision    recall  f1-score   support\n",
      "\n",
      "          1       0.95      0.86      0.90     17563\n",
      "          2       0.37      0.55      0.45      3727\n",
      "          3       0.75      0.66      0.71      6415\n",
      "          4       0.00      0.00      0.00         1\n",
      "          5       0.66      0.68      0.67      1365\n",
      "          6       0.71      0.97      0.82      1135\n",
      "          7       0.00      0.00      0.00         0\n",
      "          8       0.05      0.80      0.09         5\n",
      "\n",
      "avg / total       0.81      0.78      0.79     30211\n",
      "\n"
     ]
    },
    {
     "name": "stderr",
     "output_type": "stream",
     "text": [
      "/Users/Domingo/deep_health/training_model/env/lib/python3.4/site-packages/sklearn/metrics/classification.py:1115: UndefinedMetricWarning: Recall and F-score are ill-defined and being set to 0.0 in labels with no true samples.\n",
      "  'recall', 'true', average, warn_for)\n"
     ]
    }
   ],
   "source": [
    "from sklearn.metrics import classification_report\n",
    "print(classification_report(predict_admission, y_admission_test))"
   ]
  },
  {
   "cell_type": "code",
   "execution_count": 16,
   "metadata": {
    "collapsed": false,
    "deletable": true,
    "editable": true
   },
   "outputs": [
    {
     "name": "stdout",
     "output_type": "stream",
     "text": [
      "             precision    recall  f1-score   support\n",
      "\n",
      "          1       0.94      0.67      0.78     25075\n",
      "          2       0.00      0.00      0.00         8\n",
      "          3       0.44      0.46      0.45      3939\n",
      "          4       0.00      0.07      0.01        15\n",
      "          5       0.01      0.27      0.02        11\n",
      "          6       0.08      0.39      0.14       828\n",
      "          7       0.00      0.00      0.00         3\n",
      "          8       0.00      0.00      0.00         0\n",
      "          9       0.00      0.00      0.00         0\n",
      "         11       0.06      0.40      0.11        77\n",
      "         13       0.00      0.00      0.00         7\n",
      "         14       0.02      0.40      0.03         5\n",
      "         15       0.00      0.00      0.00         0\n",
      "         16       0.00      0.00      0.00         1\n",
      "         17       0.00      0.00      0.00         0\n",
      "         18       0.06      0.37      0.11       182\n",
      "         19       0.00      0.00      0.00         1\n",
      "         22       0.01      0.30      0.03        27\n",
      "         23       0.01      0.25      0.03         8\n",
      "         24       0.00      0.00      0.00         0\n",
      "         25       0.02      0.22      0.03        23\n",
      "         27       0.00      0.00      0.00         1\n",
      "         28       0.00      0.00      0.00         0\n",
      "\n",
      "avg / total       0.84      0.63      0.71     30211\n",
      "\n"
     ]
    },
    {
     "name": "stderr",
     "output_type": "stream",
     "text": [
      "/Users/Domingo/deep_health/training_model/env/lib/python3.4/site-packages/sklearn/metrics/classification.py:1115: UndefinedMetricWarning: Recall and F-score are ill-defined and being set to 0.0 in labels with no true samples.\n",
      "  'recall', 'true', average, warn_for)\n"
     ]
    }
   ],
   "source": [
    "print(classification_report(predict_disposition, y_disposition_test))"
   ]
  },
  {
   "cell_type": "markdown",
   "metadata": {
    "deletable": true,
    "editable": true
   },
   "source": [
    "Hmmm it seems that random forest does a better jobs in training multiple classes [in this case](http://scikit-learn.org/stable/modules/ensemble.html#classification)"
   ]
  },
  {
   "cell_type": "code",
   "execution_count": null,
   "metadata": {
    "collapsed": true
   },
   "outputs": [],
   "source": []
  }
 ],
 "metadata": {
  "kernelspec": {
   "display_name": "deep_health",
   "language": "python",
   "name": "deep_health"
  },
  "language_info": {
   "codemirror_mode": {
    "name": "ipython",
    "version": 3
   },
   "file_extension": ".py",
   "mimetype": "text/x-python",
   "name": "python",
   "nbconvert_exporter": "python",
   "pygments_lexer": "ipython3",
   "version": "3.4.4"
  }
 },
 "nbformat": 4,
 "nbformat_minor": 2
}
