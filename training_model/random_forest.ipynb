{
 "cells": [
  {
   "cell_type": "code",
   "execution_count": 36,
   "metadata": {
    "collapsed": false,
    "deletable": true,
    "editable": true
   },
   "outputs": [],
   "source": [
    "import pandas as pd\n",
    "import numpy as np\n",
    "import math\n",
    "from helpers import process_data"
   ]
  },
  {
   "cell_type": "markdown",
   "metadata": {
    "deletable": true,
    "editable": true
   },
   "source": [
    "## Import dataset\n",
    "see [helpers.py](./helpers.py) for more details"
   ]
  },
  {
   "cell_type": "code",
   "execution_count": 37,
   "metadata": {
    "collapsed": false,
    "deletable": true,
    "editable": true
   },
   "outputs": [
    {
     "name": "stdout",
     "output_type": "stream",
     "text": [
      "<class 'pandas.core.frame.DataFrame'>\n",
      "RangeIndex: 100702 entries, 0 to 100701\n",
      "Data columns (total 45 columns):\n",
      "race                        100702 non-null int64\n",
      "gender                      100702 non-null int64\n",
      "age                         100702 non-null int64\n",
      "admission_type_id           100702 non-null int64\n",
      "discharge_disposition_id    100702 non-null int64\n",
      "admission_source_id         100702 non-null int64\n",
      "time_in_hospital            100702 non-null int64\n",
      "num_lab_procedures          100702 non-null int64\n",
      "num_procedures              100702 non-null int64\n",
      "num_medications             100702 non-null int64\n",
      "number_outpatient           100702 non-null int64\n",
      "number_emergency            100702 non-null int64\n",
      "number_inpatient            100702 non-null int64\n",
      "diag_1                      100702 non-null int64\n",
      "diag_2                      100702 non-null int64\n",
      "diag_3                      100702 non-null int64\n",
      "number_diagnoses            100702 non-null int64\n",
      "max_glu_serum               100702 non-null int64\n",
      "A1Cresult                   100702 non-null int64\n",
      "metformin                   100702 non-null int64\n",
      "repaglinide                 100702 non-null int64\n",
      "nateglinide                 100702 non-null int64\n",
      "chlorpropamide              100702 non-null int64\n",
      "glimepiride                 100702 non-null int64\n",
      "acetohexamide               100702 non-null int64\n",
      "glipizide                   100702 non-null int64\n",
      "glyburide                   100702 non-null int64\n",
      "tolbutamide                 100702 non-null int64\n",
      "pioglitazone                100702 non-null int64\n",
      "rosiglitazone               100702 non-null int64\n",
      "acarbose                    100702 non-null int64\n",
      "miglitol                    100702 non-null int64\n",
      "troglitazone                100702 non-null int64\n",
      "tolazamide                  100702 non-null int64\n",
      "examide                     100702 non-null int64\n",
      "citoglipton                 100702 non-null int64\n",
      "insulin                     100702 non-null int64\n",
      "glyburide_metformin         100702 non-null int64\n",
      "glipizide_metformin         100702 non-null int64\n",
      "glimepiride_pioglitazone    100702 non-null int64\n",
      "metformin_rosiglitazone     100702 non-null int64\n",
      "metformin_pioglitazone      100702 non-null int64\n",
      "change                      100702 non-null int64\n",
      "diabetesMed                 100702 non-null int64\n",
      "readmitted                  100702 non-null int64\n",
      "dtypes: int64(45)\n",
      "memory usage: 34.6 MB\n"
     ]
    }
   ],
   "source": [
    "df = process_data('dataset_output/raw_training_data_cleaned_up.csv')"
   ]
  },
  {
   "cell_type": "markdown",
   "metadata": {
    "deletable": true,
    "editable": true
   },
   "source": [
    "#### All columns are using encoded int's. Great! "
   ]
  },
  {
   "cell_type": "markdown",
   "metadata": {
    "deletable": true,
    "editable": true
   },
   "source": [
    "# Random forest\n",
    "\n",
    "#### How to pick parameters: http://scikit-learn.org/stable/modules/ensemble.html#parameters\n",
    "\n",
    "scikit-learn uses randomly selected features to determine how to split a node when constructing a tree (http://scikit-learn.org/stable/modules/ensemble.html#random-forests)"
   ]
  },
  {
   "cell_type": "code",
   "execution_count": 58,
   "metadata": {
    "collapsed": false,
    "deletable": true,
    "editable": true
   },
   "outputs": [],
   "source": [
    "from sklearn.ensemble import RandomForestClassifier\n",
    "from sklearn.model_selection import train_test_split"
   ]
  },
  {
   "cell_type": "markdown",
   "metadata": {},
   "source": [
    "### 1) Construct training and testing sets\n",
    "TODO: validation sets"
   ]
  },
  {
   "cell_type": "code",
   "execution_count": 39,
   "metadata": {
    "collapsed": false
   },
   "outputs": [],
   "source": [
    "# Separate input and output features \n",
    "# Original df is not mutated\n",
    "X = df.drop(['discharge_disposition_id','admission_type_id'], axis=1)\n",
    "\n",
    "# columns of the values we want to predict which we use to train our model\n",
    "y_disposition = df['discharge_disposition_id']\n",
    "y_admission = df['admission_type_id']\n",
    "\n",
    "# For disposition statuses\n",
    "X_disposition_train, X_disposition_test, y_disposition_train, y_disposition_test = train_test_split(X, y_disposition, test_size=0.3)\n",
    "\n",
    "# For admission statuses\n",
    "X_admission_train, X_admission_test, y_admission_train, y_admission_test = train_test_split(X, y_admission, test_size=0.3)"
   ]
  },
  {
   "cell_type": "markdown",
   "metadata": {},
   "source": [
    "### 2) Run RandomForestClassifier to train our model"
   ]
  },
  {
   "cell_type": "code",
   "execution_count": 52,
   "metadata": {
    "collapsed": false
   },
   "outputs": [
    {
     "data": {
      "text/plain": [
       "RandomForestClassifier(bootstrap=True, class_weight=None, criterion='gini',\n",
       "            max_depth=None, max_features='auto', max_leaf_nodes=None,\n",
       "            min_impurity_split=1e-07, min_samples_leaf=1,\n",
       "            min_samples_split=2, min_weight_fraction_leaf=0.0,\n",
       "            n_estimators=100, n_jobs=-1, oob_score=False,\n",
       "            random_state=None, verbose=0, warm_start=False)"
      ]
     },
     "execution_count": 52,
     "metadata": {},
     "output_type": "execute_result"
    }
   ],
   "source": [
    "admission_classifier = RandomForestClassifier(n_estimators=100, n_jobs=-1 )\n",
    "disposition_classifier = RandomForestClassifier(n_estimators=100, n_jobs=-1 )\n",
    "\n",
    "admission_classifier.fit(X_admission_train, y_admission_train)\n",
    "disposition_classifier.fit(X_disposition_train, y_disposition_train)"
   ]
  },
  {
   "cell_type": "markdown",
   "metadata": {},
   "source": [
    "### 3) Predict!"
   ]
  },
  {
   "cell_type": "code",
   "execution_count": 53,
   "metadata": {
    "collapsed": false,
    "deletable": true,
    "editable": true
   },
   "outputs": [],
   "source": [
    "# predict classes for data in test_set\n",
    "predict_admission = admission_classifier.predict(X_admission_test) \n",
    "predict_disposition = disposition_classifier.predict(X_disposition_test)"
   ]
  },
  {
   "cell_type": "markdown",
   "metadata": {},
   "source": [
    "### 4) Evaluate our model\n",
    "\n",
    "~~Since scikit doesn't support multiclass-multilabel, we have to do this manually in a simple, basic way for now.~~ (I was using multiclass multilabel classifiers. But I'm experimenting multiclass single-label now.)"
   ]
  },
  {
   "cell_type": "code",
   "execution_count": 54,
   "metadata": {
    "collapsed": false
   },
   "outputs": [],
   "source": [
    "from sklearn.metrics import classification_report,confusion_matrix"
   ]
  },
  {
   "cell_type": "code",
   "execution_count": 55,
   "metadata": {
    "collapsed": false
   },
   "outputs": [
    {
     "name": "stdout",
     "output_type": "stream",
     "text": [
      "             precision    recall  f1-score   support\n",
      "\n",
      "          1       0.95      0.86      0.90     17740\n",
      "          2       0.37      0.58      0.45      3523\n",
      "          3       0.78      0.67      0.72      6514\n",
      "          4       0.00      0.00      0.00         0\n",
      "          5       0.66      0.69      0.67      1325\n",
      "          6       0.68      0.96      0.79      1109\n",
      "          7       0.00      0.00      0.00         0\n",
      "          8       0.00      0.00      0.00         0\n",
      "\n",
      "avg / total       0.82      0.78      0.79     30211\n",
      "\n"
     ]
    },
    {
     "name": "stderr",
     "output_type": "stream",
     "text": [
      "/Users/Domingo/deep_health/training_model/env/lib/python3.4/site-packages/sklearn/metrics/classification.py:1115: UndefinedMetricWarning: Recall and F-score are ill-defined and being set to 0.0 in labels with no true samples.\n",
      "  'recall', 'true', average, warn_for)\n"
     ]
    }
   ],
   "source": [
    "print(classification_report(predict_admission, y_admission_test))"
   ]
  },
  {
   "cell_type": "code",
   "execution_count": 56,
   "metadata": {
    "collapsed": false
   },
   "outputs": [
    {
     "name": "stdout",
     "output_type": "stream",
     "text": [
      "             precision    recall  f1-score   support\n",
      "\n",
      "          1       0.96      0.65      0.78     26270\n",
      "          2       0.00      1.00      0.00         1\n",
      "          3       0.36      0.46      0.40      3221\n",
      "          4       0.00      0.00      0.00         1\n",
      "          5       0.00      0.00      0.00         0\n",
      "          6       0.06      0.36      0.11       668\n",
      "          7       0.00      0.00      0.00         0\n",
      "          8       0.00      0.00      0.00         0\n",
      "          9       0.00      0.00      0.00         0\n",
      "         10       0.00      0.00      0.00         0\n",
      "         11       0.00      1.00      0.00         1\n",
      "         12       0.00      0.00      0.00         0\n",
      "         13       0.00      0.00      0.00         0\n",
      "         14       0.00      0.00      0.00         0\n",
      "         15       0.00      0.00      0.00         0\n",
      "         16       0.00      0.00      0.00         0\n",
      "         17       0.00      0.00      0.00         0\n",
      "         18       0.01      0.36      0.03        44\n",
      "         19       0.00      0.00      0.00         0\n",
      "         22       0.00      0.50      0.00         2\n",
      "         23       0.00      0.00      0.00         0\n",
      "         24       0.00      0.00      0.00         0\n",
      "         25       0.00      0.33      0.01         3\n",
      "         28       0.00      0.00      0.00         0\n",
      "\n",
      "avg / total       0.87      0.62      0.72     30211\n",
      "\n"
     ]
    },
    {
     "name": "stderr",
     "output_type": "stream",
     "text": [
      "/Users/Domingo/deep_health/training_model/env/lib/python3.4/site-packages/sklearn/metrics/classification.py:1115: UndefinedMetricWarning: Recall and F-score are ill-defined and being set to 0.0 in labels with no true samples.\n",
      "  'recall', 'true', average, warn_for)\n"
     ]
    }
   ],
   "source": [
    "print(classification_report(predict_disposition, y_disposition_test))"
   ]
  },
  {
   "cell_type": "markdown",
   "metadata": {},
   "source": [
    "### Feature importances"
   ]
  },
  {
   "cell_type": "code",
   "execution_count": 57,
   "metadata": {
    "collapsed": false,
    "scrolled": false
   },
   "outputs": [
    {
     "name": "stdout",
     "output_type": "stream",
     "text": [
      "Feature ranking - admission statuses:\n",
      "1. feature 3 (0.318625)\n",
      "2. feature 5 (0.089583)\n",
      "3. feature 7 (0.063991)\n",
      "4. feature 11 (0.048681)\n",
      "5. feature 13 (0.044545)\n",
      "6. feature 4 (0.044473)\n",
      "7. feature 12 (0.043723)\n",
      "8. feature 15 (0.041968)\n",
      "9. feature 6 (0.041064)\n",
      "10. feature 2 (0.035789)\n",
      "11. feature 14 (0.031744)\n",
      "12. feature 10 (0.020769)\n",
      "13. feature 34 (0.020760)\n",
      "14. feature 0 (0.017878)\n",
      "15. feature 42 (0.017588)\n",
      "16. feature 8 (0.014519)\n",
      "17. feature 1 (0.014224)\n",
      "18. feature 16 (0.012117)\n",
      "19. feature 9 (0.010644)\n",
      "20. feature 17 (0.010345)\n",
      "21. feature 23 (0.008872)\n",
      "22. feature 40 (0.008679)\n",
      "23. feature 24 (0.008078)\n",
      "24. feature 41 (0.006442)\n",
      "25. feature 27 (0.006139)\n",
      "26. feature 26 (0.005736)\n",
      "27. feature 21 (0.005416)\n",
      "28. feature 18 (0.003852)\n",
      "29. feature 35 (0.001293)\n",
      "30. feature 19 (0.001176)\n",
      "31. feature 28 (0.000724)\n",
      "32. feature 29 (0.000193)\n",
      "33. feature 31 (0.000163)\n",
      "34. feature 20 (0.000124)\n",
      "35. feature 25 (0.000044)\n",
      "36. feature 30 (0.000023)\n",
      "37. feature 36 (0.000013)\n",
      "38. feature 38 (0.000001)\n",
      "39. feature 37 (0.000000)\n",
      "40. feature 32 (0.000000)\n",
      "41. feature 33 (0.000000)\n",
      "42. feature 39 (0.000000)\n",
      "43. feature 22 (0.000000)\n",
      "\n",
      "Feature ranking - disposition statuses:\n",
      "1. feature 5 (0.099857)\n",
      "2. feature 7 (0.093997)\n",
      "3. feature 4 (0.084970)\n",
      "4. feature 2 (0.073807)\n",
      "5. feature 11 (0.072649)\n",
      "6. feature 13 (0.070779)\n",
      "7. feature 12 (0.068836)\n",
      "8. feature 6 (0.045713)\n",
      "9. feature 14 (0.043205)\n",
      "10. feature 10 (0.033652)\n",
      "11. feature 3 (0.032850)\n",
      "12. feature 34 (0.031229)\n",
      "13. feature 42 (0.028799)\n",
      "14. feature 0 (0.024878)\n",
      "15. feature 8 (0.023391)\n",
      "16. feature 16 (0.019850)\n",
      "17. feature 1 (0.019676)\n",
      "18. feature 17 (0.016268)\n",
      "19. feature 40 (0.015741)\n",
      "20. feature 9 (0.015619)\n",
      "21. feature 23 (0.014465)\n",
      "22. feature 24 (0.014032)\n",
      "23. feature 41 (0.011882)\n",
      "24. feature 26 (0.009419)\n",
      "25. feature 15 (0.009108)\n",
      "26. feature 27 (0.008976)\n",
      "27. feature 21 (0.007762)\n",
      "28. feature 18 (0.003607)\n",
      "29. feature 35 (0.001648)\n",
      "30. feature 19 (0.001449)\n",
      "31. feature 28 (0.000959)\n",
      "32. feature 20 (0.000334)\n",
      "33. feature 31 (0.000160)\n",
      "34. feature 29 (0.000159)\n",
      "35. feature 25 (0.000139)\n",
      "36. feature 36 (0.000075)\n",
      "37. feature 30 (0.000057)\n",
      "38. feature 38 (0.000006)\n",
      "39. feature 37 (0.000001)\n",
      "40. feature 32 (0.000000)\n",
      "41. feature 33 (0.000000)\n",
      "42. feature 39 (0.000000)\n",
      "43. feature 22 (0.000000)\n"
     ]
    },
    {
     "data": {
      "image/png": "[encoded data removed]",
      "text/plain": [
       "<matplotlib.figure.Figure at 0x109c37b00>"
      ]
     },
     "metadata": {},
     "output_type": "display_data"
    },
    {
     "data": {
      "image/png": "[encoded data removed]",
      "text/plain": [
       "<matplotlib.figure.Figure at 0x106989048>"
      ]
     },
     "metadata": {},
     "output_type": "display_data"
    }
   ],
   "source": [
    "import matplotlib.pyplot as plt\n",
    "\n",
    "fi_admission = admission_classifier.feature_importances_\n",
    "fi_disposition = disposition_classifier.feature_importances_\n",
    "\n",
    "stdev_admission = np.std([tree.feature_importances_ for tree in admission_classifier.estimators_],\n",
    "             axis=0)\n",
    "stdev_disposition = np.std([tree.feature_importances_ for tree in disposition_classifier.estimators_],\n",
    "             axis=0)\n",
    "\n",
    "indices_admission = np.argsort(fi_admission)[::-1]\n",
    "indices_disposition = np.argsort(fi_disposition)[::-1]\n",
    "\n",
    "# Print the feature ranking\n",
    "print(\"Feature ranking - admission statuses:\")\n",
    "for f in range(X_admission_train.shape[1]):\n",
    "    print(\"%d. feature %d (%f)\" % (f + 1, indices_admission[f], fi_admission[indices_admission[f]]))\n",
    "\n",
    "print(\"\\nFeature ranking - disposition statuses:\")\n",
    "for f in range(X_disposition_train.shape[1]):\n",
    "    print(\"%d. feature %d (%f)\" % (f + 1, indices_disposition[f], fi_disposition[indices_disposition[f]]))\n",
    "\n",
    "# Plot the feature importances of the forest\n",
    "plt.figure()\n",
    "plt.title(\"Feature importances - admission statuses\")\n",
    "plt.bar(range(X_admission_train.shape[1]), fi_admission[indices_admission],\n",
    "       color=\"r\", yerr=stdev_admission[indices_admission], align=\"center\")\n",
    "plt.xticks(range(X_admission_train.shape[1]), indices_admission)\n",
    "plt.xlim([-1, X_admission_train.shape[1]])\n",
    "plt.show()\n",
    "\n",
    "plt.figure()\n",
    "plt.title(\"Feature importances - disposition statuses\")\n",
    "plt.bar(range(X_disposition_train.shape[1]), fi_disposition[indices_disposition],\n",
    "       color=\"r\", yerr=stdev_disposition[indices_disposition], align=\"center\")\n",
    "plt.xticks(range(X_disposition_train.shape[1]), indices_disposition)\n",
    "plt.xlim([-1, X_disposition_train.shape[1]])\n",
    "plt.show()"
   ]
  },
  {
   "cell_type": "markdown",
   "metadata": {
    "deletable": true,
    "editable": true
   },
   "source": [
    "---"
   ]
  },
  {
   "cell_type": "markdown",
   "metadata": {
    "deletable": true,
    "editable": true
   },
   "source": [
    "---"
   ]
  },
  {
   "cell_type": "markdown",
   "metadata": {
    "deletable": true,
    "editable": true
   },
   "source": [
    "---"
   ]
  },
  {
   "cell_type": "markdown",
   "metadata": {},
   "source": [
    "# Extra Tree Classifier"
   ]
  },
  {
   "cell_type": "markdown",
   "metadata": {
    "deletable": true,
    "editable": true
   },
   "source": [
    "### 1) Construct training and testing \n",
    "TODO: validation sets"
   ]
  },
  {
   "cell_type": "code",
   "execution_count": 46,
   "metadata": {
    "collapsed": false,
    "deletable": true,
    "editable": true
   },
   "outputs": [],
   "source": [
    "# Separate input and output features \n",
    "# Original df is not mutated\n",
    "X = df.drop(['discharge_disposition_id','admission_type_id'], axis=1)\n",
    "\n",
    "# columns of the values we want to predict which we use to train our model\n",
    "y_disposition = df['discharge_disposition_id']\n",
    "y_admission = df['admission_type_id']\n",
    "\n",
    "# For disposition statuses\n",
    "X_disposition_train, X_disposition_test, y_disposition_train, y_disposition_test = train_test_split(X, y_disposition, test_size=0.3)\n",
    "\n",
    "# For admission statuses\n",
    "X_admission_train, X_admission_test, y_admission_train, y_admission_test = train_test_split(X, y_admission, test_size=0.3)"
   ]
  },
  {
   "cell_type": "markdown",
   "metadata": {},
   "source": [
    "### 2) Train model"
   ]
  },
  {
   "cell_type": "code",
   "execution_count": 47,
   "metadata": {
    "collapsed": false
   },
   "outputs": [
    {
     "data": {
      "text/plain": [
       "ExtraTreesClassifier(bootstrap=False, class_weight=None, criterion='gini',\n",
       "           max_depth=None, max_features='auto', max_leaf_nodes=None,\n",
       "           min_impurity_split=1e-07, min_samples_leaf=1,\n",
       "           min_samples_split=2, min_weight_fraction_leaf=0.0,\n",
       "           n_estimators=100, n_jobs=-1, oob_score=False, random_state=None,\n",
       "           verbose=0, warm_start=False)"
      ]
     },
     "execution_count": 47,
     "metadata": {},
     "output_type": "execute_result"
    }
   ],
   "source": [
    "from sklearn.ensemble import ExtraTreesClassifier\n",
    "\n",
    "admission_classifier = ExtraTreesClassifier(n_estimators=100, n_jobs=-1 )\n",
    "disposition_classifier = ExtraTreesClassifier(n_estimators=100, n_jobs=-1 )\n",
    "\n",
    "admission_classifier.fit(X_admission_train, y_admission_train)\n",
    "disposition_classifier.fit(X_disposition_train, y_disposition_train)"
   ]
  },
  {
   "cell_type": "markdown",
   "metadata": {},
   "source": [
    "### 3) Predict!"
   ]
  },
  {
   "cell_type": "code",
   "execution_count": 48,
   "metadata": {
    "collapsed": false,
    "deletable": true,
    "editable": true
   },
   "outputs": [],
   "source": [
    "# predict classes for data in test_set\n",
    "predict_admission = admission_classifier.predict(X_admission_test) \n",
    "predict_disposition = disposition_classifier.predict(X_disposition_test)"
   ]
  },
  {
   "cell_type": "markdown",
   "metadata": {},
   "source": [
    "### 4) Evaluate our models"
   ]
  },
  {
   "cell_type": "code",
   "execution_count": 49,
   "metadata": {
    "collapsed": false
   },
   "outputs": [
    {
     "name": "stdout",
     "output_type": "stream",
     "text": [
      "             precision    recall  f1-score   support\n",
      "\n",
      "          1       0.95      0.85      0.90     17952\n",
      "          2       0.33      0.57      0.41      3212\n",
      "          3       0.78      0.66      0.72      6620\n",
      "          4       0.00      0.00      0.00         0\n",
      "          5       0.65      0.69      0.67      1299\n",
      "          6       0.68      0.95      0.79      1128\n",
      "          7       0.00      0.00      0.00         0\n",
      "          8       0.00      0.00      0.00         0\n",
      "\n",
      "avg / total       0.82      0.77      0.79     30211\n",
      "\n"
     ]
    },
    {
     "name": "stderr",
     "output_type": "stream",
     "text": [
      "/Users/Domingo/deep_health/training_model/env/lib/python3.4/site-packages/sklearn/metrics/classification.py:1115: UndefinedMetricWarning: Recall and F-score are ill-defined and being set to 0.0 in labels with no true samples.\n",
      "  'recall', 'true', average, warn_for)\n"
     ]
    }
   ],
   "source": [
    "print(classification_report(predict_admission, y_admission_test))"
   ]
  },
  {
   "cell_type": "code",
   "execution_count": 50,
   "metadata": {
    "collapsed": false,
    "deletable": true,
    "editable": true
   },
   "outputs": [
    {
     "name": "stdout",
     "output_type": "stream",
     "text": [
      "             precision    recall  f1-score   support\n",
      "\n",
      "          1       0.96      0.64      0.77     26901\n",
      "          2       0.00      0.33      0.01         6\n",
      "          3       0.29      0.46      0.35      2595\n",
      "          4       0.00      0.00      0.00         2\n",
      "          5       0.00      0.50      0.01         2\n",
      "          6       0.06      0.35      0.10       619\n",
      "          7       0.00      0.00      0.00         0\n",
      "          8       0.00      0.00      0.00         0\n",
      "          9       0.00      0.00      0.00         0\n",
      "         10       0.00      0.00      0.00         0\n",
      "         11       0.01      0.56      0.02         9\n",
      "         12       0.00      0.00      0.00         1\n",
      "         13       0.00      0.00      0.00         2\n",
      "         14       0.00      0.00      0.00         1\n",
      "         15       0.00      0.00      0.00         0\n",
      "         16       0.00      0.00      0.00         0\n",
      "         17       0.00      0.00      0.00         0\n",
      "         18       0.02      0.33      0.03        58\n",
      "         19       0.00      0.00      0.00         0\n",
      "         22       0.01      0.67      0.01         6\n",
      "         23       0.00      0.00      0.00         2\n",
      "         24       0.00      0.00      0.00         0\n",
      "         25       0.00      0.14      0.01         7\n",
      "         28       0.00      0.00      0.00         0\n",
      "\n",
      "avg / total       0.88      0.62      0.72     30211\n",
      "\n"
     ]
    },
    {
     "name": "stderr",
     "output_type": "stream",
     "text": [
      "/Users/Domingo/deep_health/training_model/env/lib/python3.4/site-packages/sklearn/metrics/classification.py:1115: UndefinedMetricWarning: Recall and F-score are ill-defined and being set to 0.0 in labels with no true samples.\n",
      "  'recall', 'true', average, warn_for)\n"
     ]
    }
   ],
   "source": [
    "print(classification_report(predict_disposition, y_disposition_test))"
   ]
  },
  {
   "cell_type": "markdown",
   "metadata": {
    "deletable": true,
    "editable": true
   },
   "source": [
    "### Feature importances"
   ]
  },
  {
   "cell_type": "code",
   "execution_count": 51,
   "metadata": {
    "collapsed": false,
    "deletable": true,
    "editable": true
   },
   "outputs": [
    {
     "name": "stdout",
     "output_type": "stream",
     "text": [
      "Feature ranking - admission statuses:\n",
      "1. feature 3 (0.305032)\n",
      "2. feature 5 (0.070962)\n",
      "3. feature 7 (0.054400)\n",
      "4. feature 11 (0.048102)\n",
      "5. feature 6 (0.046378)\n",
      "6. feature 4 (0.044713)\n",
      "7. feature 13 (0.042659)\n",
      "8. feature 12 (0.042244)\n",
      "9. feature 2 (0.039849)\n",
      "10. feature 15 (0.039580)\n",
      "11. feature 14 (0.038517)\n",
      "12. feature 10 (0.026723)\n",
      "13. feature 8 (0.020541)\n",
      "14. feature 0 (0.020367)\n",
      "15. feature 34 (0.018657)\n",
      "16. feature 42 (0.018634)\n",
      "17. feature 1 (0.018326)\n",
      "18. feature 9 (0.015490)\n",
      "19. feature 16 (0.014121)\n",
      "20. feature 17 (0.011387)\n",
      "21. feature 23 (0.010720)\n",
      "22. feature 24 (0.009678)\n",
      "23. feature 40 (0.007760)\n",
      "24. feature 26 (0.007415)\n",
      "25. feature 27 (0.007305)\n",
      "26. feature 21 (0.005959)\n",
      "27. feature 41 (0.005337)\n",
      "28. feature 18 (0.004200)\n",
      "29. feature 35 (0.001625)\n",
      "30. feature 19 (0.001613)\n",
      "31. feature 28 (0.000947)\n",
      "32. feature 29 (0.000216)\n",
      "33. feature 31 (0.000208)\n",
      "34. feature 20 (0.000207)\n",
      "35. feature 25 (0.000068)\n",
      "36. feature 36 (0.000028)\n",
      "37. feature 30 (0.000024)\n",
      "38. feature 38 (0.000005)\n",
      "39. feature 37 (0.000000)\n",
      "40. feature 32 (0.000000)\n",
      "41. feature 39 (0.000000)\n",
      "42. feature 22 (0.000000)\n",
      "43. feature 33 (0.000000)\n",
      "\n",
      "Feature ranking - disposition statuses:\n",
      "1. feature 4 (0.085722)\n",
      "2. feature 7 (0.080934)\n",
      "3. feature 2 (0.079427)\n",
      "4. feature 5 (0.078156)\n",
      "5. feature 11 (0.069017)\n",
      "6. feature 13 (0.066887)\n",
      "7. feature 12 (0.066139)\n",
      "8. feature 14 (0.050668)\n",
      "9. feature 6 (0.048699)\n",
      "10. feature 10 (0.043891)\n",
      "11. feature 3 (0.038818)\n",
      "12. feature 8 (0.030003)\n",
      "13. feature 0 (0.029618)\n",
      "14. feature 42 (0.026162)\n",
      "15. feature 34 (0.025676)\n",
      "16. feature 16 (0.022728)\n",
      "17. feature 9 (0.020911)\n",
      "18. feature 1 (0.016414)\n",
      "19. feature 17 (0.015974)\n",
      "20. feature 23 (0.015825)\n",
      "21. feature 24 (0.014419)\n",
      "22. feature 40 (0.013019)\n",
      "23. feature 26 (0.011161)\n",
      "24. feature 27 (0.010969)\n",
      "25. feature 15 (0.010051)\n",
      "26. feature 21 (0.009085)\n",
      "27. feature 41 (0.008246)\n",
      "28. feature 18 (0.004488)\n",
      "29. feature 35 (0.002225)\n",
      "30. feature 19 (0.002025)\n",
      "31. feature 28 (0.001303)\n",
      "32. feature 20 (0.000473)\n",
      "33. feature 29 (0.000246)\n",
      "34. feature 31 (0.000222)\n",
      "35. feature 25 (0.000216)\n",
      "36. feature 36 (0.000111)\n",
      "37. feature 30 (0.000062)\n",
      "38. feature 38 (0.000010)\n",
      "39. feature 37 (0.000000)\n",
      "40. feature 32 (0.000000)\n",
      "41. feature 33 (0.000000)\n",
      "42. feature 39 (0.000000)\n",
      "43. feature 22 (0.000000)\n"
     ]
    },
    {
     "data": {
      "image/png": "[encoded data removed]",
      "text/plain": [
       "<matplotlib.figure.Figure at 0x116574828>"
      ]
     },
     "metadata": {},
     "output_type": "display_data"
    },
    {
     "data": {
      "image/png": "[encoded data removed]",
      "text/plain": [
       "<matplotlib.figure.Figure at 0x1092cb978>"
      ]
     },
     "metadata": {},
     "output_type": "display_data"
    }
   ],
   "source": [
    "import matplotlib.pyplot as plt\n",
    "\n",
    "fi_admission = admission_classifier.feature_importances_\n",
    "fi_disposition = disposition_classifier.feature_importances_\n",
    "\n",
    "stdev_admission = np.std([tree.feature_importances_ for tree in admission_classifier.estimators_],\n",
    "             axis=0)\n",
    "stdev_disposition = np.std([tree.feature_importances_ for tree in disposition_classifier.estimators_],\n",
    "             axis=0)\n",
    "\n",
    "indices_admission = np.argsort(fi_admission)[::-1]\n",
    "indices_disposition = np.argsort(fi_disposition)[::-1]\n",
    "\n",
    "# Print the feature ranking\n",
    "print(\"Feature ranking - admission statuses:\")\n",
    "for f in range(X_admission_train.shape[1]):\n",
    "    print(\"%d. feature %d (%f)\" % (f + 1, indices_admission[f], fi_admission[indices_admission[f]]))\n",
    "\n",
    "print(\"\\nFeature ranking - disposition statuses:\")\n",
    "for f in range(X_disposition_train.shape[1]):\n",
    "    print(\"%d. feature %d (%f)\" % (f + 1, indices_disposition[f], fi_disposition[indices_disposition[f]]))\n",
    "\n",
    "# Plot the feature importances of the forest\n",
    "plt.figure()\n",
    "plt.title(\"Feature importances - admission statuses\")\n",
    "plt.bar(range(X_admission_train.shape[1]), fi_admission[indices_admission],\n",
    "       color=\"r\", yerr=stdev_admission[indices_admission], align=\"center\")\n",
    "plt.xticks(range(X_admission_train.shape[1]), indices_admission)\n",
    "plt.xlim([-1, X_admission_train.shape[1]])\n",
    "plt.show()\n",
    "\n",
    "plt.figure()\n",
    "plt.title(\"Feature importances - disposition statuses\")\n",
    "plt.bar(range(X_disposition_train.shape[1]), fi_disposition[indices_disposition],\n",
    "       color=\"r\", yerr=stdev_disposition[indices_disposition], align=\"center\")\n",
    "plt.xticks(range(X_disposition_train.shape[1]), indices_disposition)\n",
    "plt.xlim([-1, X_disposition_train.shape[1]])\n",
    "plt.show()"
   ]
  },
  {
   "cell_type": "markdown",
   "metadata": {},
   "source": [
    "It's interesting that Extra Trees assign slightly different weights for disposition statuses. "
   ]
  },
  {
   "cell_type": "markdown",
   "metadata": {
    "deletable": true,
    "editable": true
   },
   "source": [
    "## Models to try:\n",
    "\n",
    "\n",
    "Adaboost\n",
    "\n",
    "Gradient Tree Boosting \n",
    "\n",
    "Try VotingClassifier from scikit at the end\n",
    "\n",
    "\n",
    "## Things to try:\n",
    "predict time in hospital"
   ]
  },
  {
   "cell_type": "code",
   "execution_count": null,
   "metadata": {
    "collapsed": true
   },
   "outputs": [],
   "source": []
  }
 ],
 "metadata": {
  "kernelspec": {
   "display_name": "deep_health",
   "language": "python",
   "name": "deep_health"
  },
  "language_info": {
   "codemirror_mode": {
    "name": "ipython",
    "version": 3
   },
   "file_extension": ".py",
   "mimetype": "text/x-python",
   "name": "python",
   "nbconvert_exporter": "python",
   "pygments_lexer": "ipython3",
   "version": "3.4.4"
  }
 },
 "nbformat": 4,
 "nbformat_minor": 2
}
